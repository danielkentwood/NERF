{
 "cells": [
  {
   "cell_type": "markdown",
   "metadata": {},
   "source": [
    "# Fit spatiotemporal receptive fields for remapping dataset with pyglmnet"
   ]
  },
  {
   "cell_type": "markdown",
   "metadata": {},
   "source": [
    "## Imports"
   ]
  },
  {
   "cell_type": "code",
   "execution_count": 1,
   "metadata": {
    "collapsed": false
   },
   "outputs": [
    {
     "name": "stderr",
     "output_type": "stream",
     "text": [
      "//anaconda/lib/python2.7/site-packages/matplotlib/font_manager.py:273: UserWarning: Matplotlib is building the font cache using fc-list. This may take a moment.\n",
      "  warnings.warn('Matplotlib is building the font cache using fc-list. This may take a moment.')\n"
     ]
    }
   ],
   "source": [
    "import numpy as np\n",
    "from pyglmnet import GLM\n",
    "import matplotlib.pyplot as plt\n",
    "% matplotlib inline\n",
    "from scipy.io import loadmat, savemat \n",
    "import pandas as pd\n"
   ]
  },
  {
   "cell_type": "markdown",
   "metadata": {},
   "source": [
    "## Read data file"
   ]
  },
  {
   "cell_type": "code",
   "execution_count": 2,
   "metadata": {
    "collapsed": false
   },
   "outputs": [
    {
     "data": {
      "text/html": [
       "<div>\n",
       "<table border=\"1\" class=\"dataframe\">\n",
       "  <thead>\n",
       "    <tr style=\"text-align: right;\">\n",
       "      <th></th>\n",
       "      <th>probeNum</th>\n",
       "      <th>saccNum</th>\n",
       "      <th>numSaccs</th>\n",
       "      <th>trialNum</th>\n",
       "      <th>rewardedSacc</th>\n",
       "      <th>fixProbe</th>\n",
       "      <th>saccProbe</th>\n",
       "      <th>saccPeakVel</th>\n",
       "      <th>expectedPeakVel</th>\n",
       "      <th>t</th>\n",
       "      <th>...</th>\n",
       "      <th>x_probe</th>\n",
       "      <th>x_curFix</th>\n",
       "      <th>x_oneFixAhead</th>\n",
       "      <th>x_twoFixAhead</th>\n",
       "      <th>y_probe</th>\n",
       "      <th>y_curFix</th>\n",
       "      <th>y_oneFixAhead</th>\n",
       "      <th>y_twoFixAhead</th>\n",
       "      <th>units_1</th>\n",
       "      <th>units_2</th>\n",
       "    </tr>\n",
       "  </thead>\n",
       "  <tbody>\n",
       "    <tr>\n",
       "      <th>0</th>\n",
       "      <td>1</td>\n",
       "      <td>1</td>\n",
       "      <td>3</td>\n",
       "      <td>1</td>\n",
       "      <td>0</td>\n",
       "      <td>1</td>\n",
       "      <td>0</td>\n",
       "      <td>356.574127</td>\n",
       "      <td>368.769958</td>\n",
       "      <td>5110</td>\n",
       "      <td>...</td>\n",
       "      <td>8.791632</td>\n",
       "      <td>-1.660746</td>\n",
       "      <td>-10.204762</td>\n",
       "      <td>-14.338096</td>\n",
       "      <td>15.046200</td>\n",
       "      <td>0.806730</td>\n",
       "      <td>4.722222</td>\n",
       "      <td>-3.077778</td>\n",
       "      <td>231.279940</td>\n",
       "      <td>69.929122</td>\n",
       "    </tr>\n",
       "    <tr>\n",
       "      <th>1</th>\n",
       "      <td>2</td>\n",
       "      <td>1</td>\n",
       "      <td>3</td>\n",
       "      <td>1</td>\n",
       "      <td>0</td>\n",
       "      <td>1</td>\n",
       "      <td>0</td>\n",
       "      <td>356.574127</td>\n",
       "      <td>368.769958</td>\n",
       "      <td>5230</td>\n",
       "      <td>...</td>\n",
       "      <td>2.899858</td>\n",
       "      <td>-1.660746</td>\n",
       "      <td>-10.204762</td>\n",
       "      <td>-14.338096</td>\n",
       "      <td>15.046200</td>\n",
       "      <td>0.806730</td>\n",
       "      <td>4.722222</td>\n",
       "      <td>-3.077778</td>\n",
       "      <td>84.576487</td>\n",
       "      <td>0.000000</td>\n",
       "    </tr>\n",
       "    <tr>\n",
       "      <th>2</th>\n",
       "      <td>3</td>\n",
       "      <td>1</td>\n",
       "      <td>3</td>\n",
       "      <td>1</td>\n",
       "      <td>0</td>\n",
       "      <td>1</td>\n",
       "      <td>0</td>\n",
       "      <td>356.574127</td>\n",
       "      <td>368.769958</td>\n",
       "      <td>5350</td>\n",
       "      <td>...</td>\n",
       "      <td>8.791632</td>\n",
       "      <td>-1.660746</td>\n",
       "      <td>-10.204762</td>\n",
       "      <td>-14.338096</td>\n",
       "      <td>2.971507</td>\n",
       "      <td>0.806730</td>\n",
       "      <td>4.722222</td>\n",
       "      <td>-3.077778</td>\n",
       "      <td>264.221561</td>\n",
       "      <td>66.565434</td>\n",
       "    </tr>\n",
       "    <tr>\n",
       "      <th>3</th>\n",
       "      <td>4</td>\n",
       "      <td>2</td>\n",
       "      <td>3</td>\n",
       "      <td>1</td>\n",
       "      <td>0</td>\n",
       "      <td>1</td>\n",
       "      <td>0</td>\n",
       "      <td>365.157227</td>\n",
       "      <td>346.729919</td>\n",
       "      <td>5470</td>\n",
       "      <td>...</td>\n",
       "      <td>14.683406</td>\n",
       "      <td>-9.732818</td>\n",
       "      <td>-14.338096</td>\n",
       "      <td>-21.104761</td>\n",
       "      <td>-15.140534</td>\n",
       "      <td>4.548117</td>\n",
       "      <td>-3.077778</td>\n",
       "      <td>-3.077778</td>\n",
       "      <td>129.414131</td>\n",
       "      <td>433.025514</td>\n",
       "    </tr>\n",
       "    <tr>\n",
       "      <th>4</th>\n",
       "      <td>5</td>\n",
       "      <td>2</td>\n",
       "      <td>3</td>\n",
       "      <td>1</td>\n",
       "      <td>0</td>\n",
       "      <td>0</td>\n",
       "      <td>1</td>\n",
       "      <td>365.157227</td>\n",
       "      <td>346.729919</td>\n",
       "      <td>5590</td>\n",
       "      <td>...</td>\n",
       "      <td>8.791632</td>\n",
       "      <td>-9.732818</td>\n",
       "      <td>-14.338096</td>\n",
       "      <td>-21.104761</td>\n",
       "      <td>2.971507</td>\n",
       "      <td>4.548117</td>\n",
       "      <td>-3.077778</td>\n",
       "      <td>-3.077778</td>\n",
       "      <td>59.805547</td>\n",
       "      <td>73.923103</td>\n",
       "    </tr>\n",
       "  </tbody>\n",
       "</table>\n",
       "<p>5 rows × 28 columns</p>\n",
       "</div>"
      ],
      "text/plain": [
       "   probeNum  saccNum  numSaccs  trialNum  rewardedSacc  fixProbe  saccProbe  \\\n",
       "0         1        1         3         1             0         1          0   \n",
       "1         2        1         3         1             0         1          0   \n",
       "2         3        1         3         1             0         1          0   \n",
       "3         4        2         3         1             0         1          0   \n",
       "4         5        2         3         1             0         0          1   \n",
       "\n",
       "   saccPeakVel  expectedPeakVel     t     ...        x_probe  x_curFix  \\\n",
       "0   356.574127       368.769958  5110     ...       8.791632 -1.660746   \n",
       "1   356.574127       368.769958  5230     ...       2.899858 -1.660746   \n",
       "2   356.574127       368.769958  5350     ...       8.791632 -1.660746   \n",
       "3   365.157227       346.729919  5470     ...      14.683406 -9.732818   \n",
       "4   365.157227       346.729919  5590     ...       8.791632 -9.732818   \n",
       "\n",
       "   x_oneFixAhead  x_twoFixAhead    y_probe  y_curFix  y_oneFixAhead  \\\n",
       "0     -10.204762     -14.338096  15.046200  0.806730       4.722222   \n",
       "1     -10.204762     -14.338096  15.046200  0.806730       4.722222   \n",
       "2     -10.204762     -14.338096   2.971507  0.806730       4.722222   \n",
       "3     -14.338096     -21.104761 -15.140534  4.548117      -3.077778   \n",
       "4     -14.338096     -21.104761   2.971507  4.548117      -3.077778   \n",
       "\n",
       "   y_twoFixAhead     units_1     units_2  \n",
       "0      -3.077778  231.279940   69.929122  \n",
       "1      -3.077778   84.576487    0.000000  \n",
       "2      -3.077778  264.221561   66.565434  \n",
       "3      -3.077778  129.414131  433.025514  \n",
       "4      -3.077778   59.805547   73.923103  \n",
       "\n",
       "[5 rows x 28 columns]"
      ]
     },
     "execution_count": 2,
     "metadata": {},
     "output_type": "execute_result"
    }
   ],
   "source": [
    "df = pd.read_csv('probe_m15_d1v3_c21.csv')\n",
    "df.head()"
   ]
  },
  {
   "cell_type": "markdown",
   "metadata": {},
   "source": [
    "## define workspace"
   ]
  },
  {
   "cell_type": "code",
   "execution_count": 3,
   "metadata": {
    "collapsed": true
   },
   "outputs": [],
   "source": [
    "# define workspace \n",
    "N=5 # number of spatial basis functions in each dimension\n",
    "P=50 # width and height of workspace, in degrees"
   ]
  },
  {
   "cell_type": "markdown",
   "metadata": {},
   "source": [
    "## Register probe x and y to current and next fixation"
   ]
  },
  {
   "cell_type": "code",
   "execution_count": 4,
   "metadata": {
    "collapsed": false
   },
   "outputs": [],
   "source": [
    "df['fix1_x'] = df.x_probe - df.x_oneFixAhead\n",
    "df['fix1_y'] = df.y_probe - df.y_oneFixAhead\n",
    "\n",
    "# now make sure that these probes fall within the spatial workspace\n",
    "df['within_workspace']=(df.fix1_x>-P/2) & (df.fix1_x<P/2) & (df.fix1_y>-P/2) & (df.fix1_y<P/2)"
   ]
  },
  {
   "cell_type": "markdown",
   "metadata": {},
   "source": [
    "## create some functions"
   ]
  },
  {
   "cell_type": "code",
   "execution_count": 5,
   "metadata": {
    "collapsed": false
   },
   "outputs": [],
   "source": [
    "def get_time_bins(df_of_latency, list_of_bins):\n",
    "    all_time_bins_list = list()\n",
    "    for i in df_of_latency.index:\n",
    "        time_bin_list = list()\n",
    "        for bin_id, bin_edges in enumerate(list_of_bins):\n",
    "            if df_of_latency.loc[i] >= bin_edges[0] and \\\n",
    "               df_of_latency.loc[i] <= bin_edges[1]: \n",
    "                time_bin_list.append(bin_id)\n",
    "        all_time_bins_list.append(time_bin_list)\n",
    "    return all_time_bins_list"
   ]
  },
  {
   "cell_type": "code",
   "execution_count": 39,
   "metadata": {
    "collapsed": true
   },
   "outputs": [],
   "source": [
    "def design_prior_covariance_for_strf(n_t=8, n_s=25, sigma_t=10., sigma_s=10.):\n",
    "    \"\"\"\n",
    "    Design a prior covariance matrix for STRF estimation\n",
    "    \"\"\"\n",
    "    n_features = n_t * n_s    \n",
    "    spatialCov = np.zeros([n_features, n_features])\n",
    "    temporalCov = np.zeros([n_features, n_features])\n",
    "    PriorCov = np.zeros([n_features, n_features])\n",
    "    for i in np.arange(0, n_features):\n",
    "        # Get spatiotemporal indices\n",
    "        t_i = np.floor(np.float(i) / n_s)\n",
    "        s_i = i % n_s\n",
    "        # Convert spatial indices to (x,y) coordinates\n",
    "        x_i, y_i = s_i % np.sqrt(n_s), np.floor(np.float(s_i) / np.sqrt(n_s))\n",
    "        \n",
    "        for j in np.arange(i, n_features):\n",
    "            # Get spatiotemporal indices\n",
    "            t_j = np.floor(np.float(j) / n_s)\n",
    "            s_j = j % n_s\n",
    "            # Convert spatial indices to (x,y) coordinates\n",
    "            x_j, y_j = s_j % np.sqrt(n_s), np.floor(np.float(s_i) / np.sqrt(n_s))\n",
    "        \n",
    "            \n",
    "            spatialCov[i, j] = np.exp(-1. / (sigma_s ** 2) * ((x_i - x_j) ** 2 + (y_i - y_j) ** 2))\n",
    "            spatialCov[j, i] = spatialCov[i, j]\n",
    "            temporalCov[i, j] = np.exp(-1. / (sigma_t ** 2) * (t_i - t_j) ** 2)\n",
    "            temporalCov[j, i] = temporalCov[i, j]\n",
    "\n",
    "            #if i == j:\n",
    "            #    spatialCov[i, j] += 0.05\n",
    "            #    temporalCov[i, j] += 0.05\n",
    "\n",
    "    PriorCov = spatialCov * temporalCov\n",
    "    PriorCov = 1./ np.max(PriorCov) * PriorCov\n",
    "    return PriorCov, spatialCov, temporalCov\n",
    "\n",
    "\n",
    "# USAGE\n",
    "# C = design_prior_covariance_for_strf(n_t=8, n_s=25, sigma_t=10., sigma_s=10.)\n",
    "# plt.figure(figsize=(10,10))\n",
    "# plt.imshow(C, cmap='Greys')\n",
    "# plt.colorbar()\n",
    "# plt.show()"
   ]
  },
  {
   "cell_type": "code",
   "execution_count": 7,
   "metadata": {
    "collapsed": true
   },
   "outputs": [],
   "source": [
    "def make_gauss2D(shape=(3,3), sigma=0.5, center=(0,0)):\n",
    "    \"\"\"\n",
    "    2D gaussian mask - should give the same result as MATLAB's\n",
    "    fspecial('gaussian',[shape],[sigma])\n",
    "    \"\"\"\n",
    "    m, n = [(ss - 1.) / 2. for ss in shape]\n",
    "    y, x = np.ogrid[-m : m + 1, -n : n + 1]\n",
    "    y0, x0 = center[1], center[0]\n",
    "    G = np.exp( -((x - x0) ** 2 + (y - y0) ** 2) / (2. * sigma ** 2) )\n",
    "    G[G < np.finfo(G.dtype).eps * G.max()] = 0\n",
    "    return 1. / G.max() * G"
   ]
  },
  {
   "cell_type": "code",
   "execution_count": 8,
   "metadata": {
    "collapsed": true
   },
   "outputs": [],
   "source": [
    "def make_spatial_basis(shape=(50,50), sigma=5, n_basis=25):\n",
    "    \"\"\"\n",
    "    Makes a list of Gaussian filters\n",
    "    \n",
    "    Parameters\n",
    "    ----------\n",
    "    shape: tuple, \n",
    "        specifies the image size in pixels\n",
    "        (should be the same)\n",
    "    sigma: float,\n",
    "        specifies the sigma of the Gaussian kernel\n",
    "    n_basis: int,\n",
    "        number of basis fuctions\n",
    "        (has to be a perfect square)\n",
    "    \"\"\"\n",
    "    Basis = list()\n",
    "    \n",
    "    n_tiles = np.sqrt(n_basis)\n",
    "    n_pixels = shape[0]\n",
    "    centers = np.linspace(start = -n_pixels / 2. + n_pixels / (n_tiles + 1.), \n",
    "                          stop = n_pixels / 2. - n_pixels / (n_tiles + 1.),\n",
    "                          num=n_tiles)\n",
    "    \n",
    "    for y in np.arange(n_tiles):\n",
    "        for x in np.arange(n_tiles):\n",
    "            G = make_gauss2D(shape=shape, sigma=sigma, center=(centers[x], centers[y]))\n",
    "            Basis.append(G)\n",
    "    return Basis\n",
    "\n",
    "\n",
    "# USAGE\n",
    "# n_basis = 25\n",
    "# n_tiles = np.sqrt(n_basis)\n",
    "# Basis = make_spatial_basis((50,50), sigma=5, n_basis=n_basis)\n",
    "# plt.figure(figsize=(7,7))\n",
    "# for i in range(len(Basis)):\n",
    "#     plt.subplot(np.int(n_tiles), np.int(n_tiles), i+1)\n",
    "#     plt.imshow(Basis[i], cmap='Greys')\n",
    "#     plt.axis('off')\n",
    "# plt.show()"
   ]
  },
  {
   "cell_type": "code",
   "execution_count": 9,
   "metadata": {
    "collapsed": true
   },
   "outputs": [],
   "source": [
    "def project_to_basis(I, Basis):\n",
    "    projection = np.zeros(len(Basis))\n",
    "    for b in range(len(Basis)):\n",
    "        projection[b] = np.sum(Basis[b] * I)\n",
    "    return projection\n",
    "\n",
    "\n",
    "# USAGE\n",
    "# I = np.zeros((50,50))\n",
    "# I[10, 12] = 1.\n",
    "# vec25 = project_to_basis(I, Basis)\n",
    "# plt.stem(vec25)\n",
    "# plt.xlim([-1, 25])\n",
    "# plt.show()"
   ]
  },
  {
   "cell_type": "code",
   "execution_count": 10,
   "metadata": {
    "collapsed": true
   },
   "outputs": [],
   "source": [
    "def make_RF_from_basis(Basis, weights):\n",
    "    RF = np.zeros(Basis[0].shape)\n",
    "    for b in range(len(Basis)):\n",
    "        RF += weights[b] * Basis[b]\n",
    "    return RF"
   ]
  },
  {
   "cell_type": "code",
   "execution_count": null,
   "metadata": {
    "collapsed": true
   },
   "outputs": [],
   "source": []
  },
  {
   "cell_type": "markdown",
   "metadata": {},
   "source": [
    "## Get probes within temporal window(s) of interest"
   ]
  },
  {
   "cell_type": "code",
   "execution_count": 11,
   "metadata": {
    "collapsed": false
   },
   "outputs": [],
   "source": [
    "# Define window params\n",
    "lock_event = 't_sacc_start_lock'\n",
    "sac_win_earliest = -75\n",
    "sac_win_latest = 25\n",
    "sac_win_size = 25\n",
    "sac_win_inc = 25\n",
    "\n",
    "# define start and end times for all windows\n",
    "start_times = range(sac_win_earliest,sac_win_latest,sac_win_inc)\n",
    "end_times = [x+sac_win_size for x in start_times]\n",
    "list_of_bins = zip(start_times,end_times)\n",
    "\n",
    "# now add the time bin variable\n",
    "df['time_bin']= get_time_bins(df[lock_event], list_of_bins)\n",
    "\n"
   ]
  },
  {
   "cell_type": "code",
   "execution_count": 12,
   "metadata": {
    "collapsed": false
   },
   "outputs": [
    {
     "data": {
      "text/html": [
       "<div>\n",
       "<table border=\"1\" class=\"dataframe\">\n",
       "  <thead>\n",
       "    <tr style=\"text-align: right;\">\n",
       "      <th></th>\n",
       "      <th>probeNum</th>\n",
       "      <th>saccNum</th>\n",
       "      <th>numSaccs</th>\n",
       "      <th>trialNum</th>\n",
       "      <th>rewardedSacc</th>\n",
       "      <th>fixProbe</th>\n",
       "      <th>saccProbe</th>\n",
       "      <th>saccPeakVel</th>\n",
       "      <th>expectedPeakVel</th>\n",
       "      <th>t</th>\n",
       "      <th>...</th>\n",
       "      <th>y_probe</th>\n",
       "      <th>y_curFix</th>\n",
       "      <th>y_oneFixAhead</th>\n",
       "      <th>y_twoFixAhead</th>\n",
       "      <th>units_1</th>\n",
       "      <th>units_2</th>\n",
       "      <th>fix1_x</th>\n",
       "      <th>fix1_y</th>\n",
       "      <th>within_workspace</th>\n",
       "      <th>time_bin</th>\n",
       "    </tr>\n",
       "  </thead>\n",
       "  <tbody>\n",
       "    <tr>\n",
       "      <th>0</th>\n",
       "      <td>1</td>\n",
       "      <td>1</td>\n",
       "      <td>3</td>\n",
       "      <td>1</td>\n",
       "      <td>0</td>\n",
       "      <td>1</td>\n",
       "      <td>0</td>\n",
       "      <td>356.574127</td>\n",
       "      <td>368.769958</td>\n",
       "      <td>5110</td>\n",
       "      <td>...</td>\n",
       "      <td>15.046200</td>\n",
       "      <td>0.806730</td>\n",
       "      <td>4.722222</td>\n",
       "      <td>-3.077778</td>\n",
       "      <td>231.279940</td>\n",
       "      <td>69.929122</td>\n",
       "      <td>18.996394</td>\n",
       "      <td>10.323978</td>\n",
       "      <td>True</td>\n",
       "      <td>[]</td>\n",
       "    </tr>\n",
       "    <tr>\n",
       "      <th>1</th>\n",
       "      <td>2</td>\n",
       "      <td>1</td>\n",
       "      <td>3</td>\n",
       "      <td>1</td>\n",
       "      <td>0</td>\n",
       "      <td>1</td>\n",
       "      <td>0</td>\n",
       "      <td>356.574127</td>\n",
       "      <td>368.769958</td>\n",
       "      <td>5230</td>\n",
       "      <td>...</td>\n",
       "      <td>15.046200</td>\n",
       "      <td>0.806730</td>\n",
       "      <td>4.722222</td>\n",
       "      <td>-3.077778</td>\n",
       "      <td>84.576487</td>\n",
       "      <td>0.000000</td>\n",
       "      <td>13.104620</td>\n",
       "      <td>10.323978</td>\n",
       "      <td>True</td>\n",
       "      <td>[]</td>\n",
       "    </tr>\n",
       "    <tr>\n",
       "      <th>2</th>\n",
       "      <td>3</td>\n",
       "      <td>1</td>\n",
       "      <td>3</td>\n",
       "      <td>1</td>\n",
       "      <td>0</td>\n",
       "      <td>1</td>\n",
       "      <td>0</td>\n",
       "      <td>356.574127</td>\n",
       "      <td>368.769958</td>\n",
       "      <td>5350</td>\n",
       "      <td>...</td>\n",
       "      <td>2.971507</td>\n",
       "      <td>0.806730</td>\n",
       "      <td>4.722222</td>\n",
       "      <td>-3.077778</td>\n",
       "      <td>264.221561</td>\n",
       "      <td>66.565434</td>\n",
       "      <td>18.996394</td>\n",
       "      <td>-1.750716</td>\n",
       "      <td>True</td>\n",
       "      <td>[1]</td>\n",
       "    </tr>\n",
       "    <tr>\n",
       "      <th>3</th>\n",
       "      <td>4</td>\n",
       "      <td>2</td>\n",
       "      <td>3</td>\n",
       "      <td>1</td>\n",
       "      <td>0</td>\n",
       "      <td>1</td>\n",
       "      <td>0</td>\n",
       "      <td>365.157227</td>\n",
       "      <td>346.729919</td>\n",
       "      <td>5470</td>\n",
       "      <td>...</td>\n",
       "      <td>-15.140534</td>\n",
       "      <td>4.548117</td>\n",
       "      <td>-3.077778</td>\n",
       "      <td>-3.077778</td>\n",
       "      <td>129.414131</td>\n",
       "      <td>433.025514</td>\n",
       "      <td>29.021501</td>\n",
       "      <td>-12.062756</td>\n",
       "      <td>False</td>\n",
       "      <td>[]</td>\n",
       "    </tr>\n",
       "    <tr>\n",
       "      <th>4</th>\n",
       "      <td>5</td>\n",
       "      <td>2</td>\n",
       "      <td>3</td>\n",
       "      <td>1</td>\n",
       "      <td>0</td>\n",
       "      <td>0</td>\n",
       "      <td>1</td>\n",
       "      <td>365.157227</td>\n",
       "      <td>346.729919</td>\n",
       "      <td>5590</td>\n",
       "      <td>...</td>\n",
       "      <td>2.971507</td>\n",
       "      <td>4.548117</td>\n",
       "      <td>-3.077778</td>\n",
       "      <td>-3.077778</td>\n",
       "      <td>59.805547</td>\n",
       "      <td>73.923103</td>\n",
       "      <td>23.129727</td>\n",
       "      <td>6.049285</td>\n",
       "      <td>True</td>\n",
       "      <td>[3]</td>\n",
       "    </tr>\n",
       "  </tbody>\n",
       "</table>\n",
       "<p>5 rows × 32 columns</p>\n",
       "</div>"
      ],
      "text/plain": [
       "   probeNum  saccNum  numSaccs  trialNum  rewardedSacc  fixProbe  saccProbe  \\\n",
       "0         1        1         3         1             0         1          0   \n",
       "1         2        1         3         1             0         1          0   \n",
       "2         3        1         3         1             0         1          0   \n",
       "3         4        2         3         1             0         1          0   \n",
       "4         5        2         3         1             0         0          1   \n",
       "\n",
       "   saccPeakVel  expectedPeakVel     t    ...       y_probe  y_curFix  \\\n",
       "0   356.574127       368.769958  5110    ...     15.046200  0.806730   \n",
       "1   356.574127       368.769958  5230    ...     15.046200  0.806730   \n",
       "2   356.574127       368.769958  5350    ...      2.971507  0.806730   \n",
       "3   365.157227       346.729919  5470    ...    -15.140534  4.548117   \n",
       "4   365.157227       346.729919  5590    ...      2.971507  4.548117   \n",
       "\n",
       "   y_oneFixAhead  y_twoFixAhead     units_1     units_2     fix1_x     fix1_y  \\\n",
       "0       4.722222      -3.077778  231.279940   69.929122  18.996394  10.323978   \n",
       "1       4.722222      -3.077778   84.576487    0.000000  13.104620  10.323978   \n",
       "2       4.722222      -3.077778  264.221561   66.565434  18.996394  -1.750716   \n",
       "3      -3.077778      -3.077778  129.414131  433.025514  29.021501 -12.062756   \n",
       "4      -3.077778      -3.077778   59.805547   73.923103  23.129727   6.049285   \n",
       "\n",
       "   within_workspace  time_bin  \n",
       "0              True        []  \n",
       "1              True        []  \n",
       "2              True       [1]  \n",
       "3             False        []  \n",
       "4              True       [3]  \n",
       "\n",
       "[5 rows x 32 columns]"
      ]
     },
     "execution_count": 12,
     "metadata": {},
     "output_type": "execute_result"
    }
   ],
   "source": [
    "df.head()"
   ]
  },
  {
   "cell_type": "markdown",
   "metadata": {},
   "source": [
    "Note: Convert units_1 and units_2 to spike counts"
   ]
  },
  {
   "cell_type": "markdown",
   "metadata": {},
   "source": [
    "## Build design matrix "
   ]
  },
  {
   "cell_type": "markdown",
   "metadata": {},
   "source": [
    "### Design spatial basis functions"
   ]
  },
  {
   "cell_type": "code",
   "execution_count": 103,
   "metadata": {
    "collapsed": false
   },
   "outputs": [
    {
     "name": "stderr",
     "output_type": "stream",
     "text": [
      "/anaconda/lib/python2.7/site-packages/ipykernel/__main__.py:26: VisibleDeprecationWarning: using a non-integer number instead of an integer will result in an error in the future\n"
     ]
    }
   ],
   "source": [
    "n_basis = 25\n",
    "n_shape = 50\n",
    "Basis = make_spatial_basis(shape=(n_shape,n_shape), sigma=5, n_basis=n_basis)"
   ]
  },
  {
   "cell_type": "markdown",
   "metadata": {},
   "source": [
    "### Compute basis projections by looping through df"
   ]
  },
  {
   "cell_type": "code",
   "execution_count": 140,
   "metadata": {
    "collapsed": false
   },
   "outputs": [
    {
     "name": "stderr",
     "output_type": "stream",
     "text": [
      "  0%|          | 0/33814 [00:00<?, ?it/s]/anaconda/lib/python2.7/site-packages/ipykernel/__main__.py:20: VisibleDeprecationWarning: using a non-integer number instead of an integer will result in an error in the future\n",
      "100%|██████████| 33814/33814 [00:36<00:00, 939.27it/s]\n"
     ]
    }
   ],
   "source": [
    "from tqdm import tqdm\n",
    "\n",
    "n_timebins = len(list_of_bins)\n",
    "X = list()\n",
    "Y = list()\n",
    "\n",
    "# Loop through probes\n",
    "for probe_id in tqdm(df.index):\n",
    "    \n",
    "    # Check whether the probe lies within workspace and occured within time window of interest\n",
    "    if df.loc[probe_id]['within_workspace'] == True &\\\n",
    "       len(df.loc[probe_id]['time_bin']) > 0:\n",
    "        \n",
    "        # Initialize features for this probe\n",
    "        probe_features = np.zeros(n_basis * n_timebins)\n",
    "        \n",
    "        # Define an image based on the relative locations\n",
    "        I = np.zeros(shape=(n_shape, n_shape))\n",
    "        row = -np.round(df.loc[probe_id]['fix1_y']) + P/2 - 1 \n",
    "        col = np.round(df.loc[probe_id]['fix1_x']) + P/2 - 1\n",
    "        I[row, col] = 1\n",
    "        \n",
    "        # Compute projection\n",
    "        basis_projection = project_to_basis(I, Basis)\n",
    "        \n",
    "        # Assign to probe features according to which time bins they were assigned\n",
    "        for bin_ in df.loc[probe_id]['time_bin']:\n",
    "            cols_of_interest = range(n_basis * bin_, \n",
    "                                     n_basis * (bin_ + 1))\n",
    "            probe_features[cols_of_interest] = basis_projection\n",
    "        \n",
    "        X.append(probe_features)\n",
    "        Y.append(df.loc[probe_id]['units_1'])\n",
    "\n",
    "X = np.array(X)\n",
    "Y = np.array(Y)  * 70.0 / 10000.0 #weird normalization"
   ]
  },
  {
   "cell_type": "code",
   "execution_count": 141,
   "metadata": {
    "collapsed": false
   },
   "outputs": [
    {
     "name": "stdout",
     "output_type": "stream",
     "text": [
      "(6252, 100)\n",
      "(6252,)\n"
     ]
    }
   ],
   "source": [
    "print X.shape\n",
    "print Y.shape"
   ]
  },
  {
   "cell_type": "markdown",
   "metadata": {},
   "source": [
    "## Compute prior covariance matrix"
   ]
  },
  {
   "cell_type": "code",
   "execution_count": 142,
   "metadata": {
    "collapsed": false
   },
   "outputs": [
    {
     "data": {
      "image/png": "[encoded data removed]",
      "text/plain": [
       "<matplotlib.figure.Figure at 0x12e4309d0>"
      ]
     },
     "metadata": {},
     "output_type": "display_data"
    }
   ],
   "source": [
    "PriorCov, spatialCov, temporalCov = design_prior_covariance_for_strf(n_t=n_timebins, n_s=n_basis, \n",
    "                                                                     sigma_t=2., sigma_s=5.)\n",
    "plt.figure(figsize=(10,10))\n",
    "plt.imshow(PriorCov, cmap='Greys', interpolation='none')\n",
    "#plt.imshow(spatialCov[0:25,0:25], cmap='Greys', interpolation='none')\n",
    "plt.colorbar()\n",
    "plt.show()"
   ]
  },
  {
   "cell_type": "markdown",
   "metadata": {},
   "source": [
    "## Fit Tikhonov regularized GLM"
   ]
  },
  {
   "cell_type": "code",
   "execution_count": 143,
   "metadata": {
    "collapsed": false
   },
   "outputs": [],
   "source": [
    "from pyglmnet import utils\n",
    "\n",
    "# Correct non-zero elements\n",
    "Xdata = X[Y > 0., :]\n",
    "Ydata = Y[Y > 0.]\n",
    "\n",
    "n_samples = Xdata.shape[0]\n",
    "Tau = utils.tikhonov_from_prior(PriorCov, n_samples)\n"
   ]
  },
  {
   "cell_type": "code",
   "execution_count": 144,
   "metadata": {
    "collapsed": false
   },
   "outputs": [
    {
     "name": "stdout",
     "output_type": "stream",
     "text": [
      "(5987, 100)\n",
      "(5987,)\n"
     ]
    }
   ],
   "source": [
    "print Xdata.shape\n",
    "print Ydata.shape"
   ]
  },
  {
   "cell_type": "code",
   "execution_count": 145,
   "metadata": {
    "collapsed": false,
    "scrolled": true
   },
   "outputs": [
    {
     "data": {
      "text/plain": [
       "<\n",
       "Distribution | poisson\n",
       "alpha | 0.00\n",
       "max_iter | 1000.00\n",
       "lambda: 0.50 to 0.01\n",
       ">"
      ]
     },
     "execution_count": 145,
     "metadata": {},
     "output_type": "execute_result"
    }
   ],
   "source": [
    "glm = GLM(distr='poisson', alpha=0., Tau=Tau, score_metric='pseudo_R2')\n",
    "glm.fit(Xdata, Ydata)"
   ]
  },
  {
   "cell_type": "code",
   "execution_count": 146,
   "metadata": {
    "collapsed": true
   },
   "outputs": [],
   "source": [
    "Ydata_hat = glm[4].predict(Xdata)"
   ]
  },
  {
   "cell_type": "code",
   "execution_count": 147,
   "metadata": {
    "collapsed": false
   },
   "outputs": [
    {
     "name": "stdout",
     "output_type": "stream",
     "text": [
      "0.681360018675\n"
     ]
    }
   ],
   "source": [
    "print glm.score(Xdata, Ydata_hat)"
   ]
  },
  {
   "cell_type": "code",
   "execution_count": 165,
   "metadata": {
    "collapsed": false
   },
   "outputs": [],
   "source": [
    "weights = glm[1].fit_['beta']"
   ]
  },
  {
   "cell_type": "code",
   "execution_count": 166,
   "metadata": {
    "collapsed": false
   },
   "outputs": [
    {
     "data": {
      "text/plain": [
       "(100, 1)"
      ]
     },
     "execution_count": 166,
     "metadata": {},
     "output_type": "execute_result"
    }
   ],
   "source": [
    "weights.shape"
   ]
  },
  {
   "cell_type": "code",
   "execution_count": 167,
   "metadata": {
    "collapsed": false
   },
   "outputs": [
    {
     "data": {
      "text/plain": [
       "(-0.5, 49.5, 49.5, -0.5)"
      ]
     },
     "execution_count": 167,
     "metadata": {},
     "output_type": "execute_result"
    },
    {
     "data": {
      "image/png": "[encoded data removed]",
      "text/plain": [
       "<matplotlib.figure.Figure at 0x11e7a21d0>"
      ]
     },
     "metadata": {},
     "output_type": "display_data"
    }
   ],
   "source": [
    "RF0 = make_RF_from_basis(Basis, weights[0:25])\n",
    "RF1 = make_RF_from_basis(Basis, weights[25:50])\n",
    "RF2 = make_RF_from_basis(Basis, weights[50:75])\n",
    "RF3 = make_RF_from_basis(Basis, weights[75:100])\n",
    "plt.figure(figsize=(20,14))\n",
    "plt.subplot(1,4,1)\n",
    "plt.imshow(RF0, cmap='inferno', interpolation='none')\n",
    "plt.axis('off')\n",
    "plt.subplot(1,4,2)\n",
    "plt.imshow(RF1, cmap='inferno', interpolation='none')\n",
    "plt.axis('off')\n",
    "plt.subplot(1,4,3)\n",
    "plt.imshow(RF2, cmap='inferno', interpolation='none')\n",
    "plt.axis('off')\n",
    "plt.subplot(1,4,4)\n",
    "plt.imshow(RF3, cmap='inferno', interpolation='none')\n",
    "plt.axis('off')"
   ]
  },
  {
   "cell_type": "code",
   "execution_count": 128,
   "metadata": {
    "collapsed": false
   },
   "outputs": [
    {
     "data": {
      "image/png": "[encoded data removed]",
      "text/plain": [
       "<matplotlib.figure.Figure at 0x12e532e90>"
      ]
     },
     "metadata": {},
     "output_type": "display_data"
    }
   ],
   "source": [
    "plt.stem(weights)\n",
    "plt.xlim([-1, 101])\n",
    "plt.show()\n"
   ]
  },
  {
   "cell_type": "code",
   "execution_count": 134,
   "metadata": {
    "collapsed": false
   },
   "outputs": [
    {
     "data": {
      "text/plain": [
       "[(-75, -50), (-50, -25), (-25, 0), (0, 25)]"
      ]
     },
     "execution_count": 134,
     "metadata": {},
     "output_type": "execute_result"
    }
   ],
   "source": [
    "list_of_bins"
   ]
  },
  {
   "cell_type": "code",
   "execution_count": null,
   "metadata": {
    "collapsed": true
   },
   "outputs": [],
   "source": []
  }
 ],
 "metadata": {
  "anaconda-cloud": {},
  "kernelspec": {
   "display_name": "Python [Root]",
   "language": "python",
   "name": "Python [Root]"
  },
  "language_info": {
   "codemirror_mode": {
    "name": "ipython",
    "version": 2
   },
   "file_extension": ".py",
   "mimetype": "text/x-python",
   "name": "python",
   "nbconvert_exporter": "python",
   "pygments_lexer": "ipython2",
   "version": "2.7.12"
  }
 },
 "nbformat": 4,
 "nbformat_minor": 0
}
